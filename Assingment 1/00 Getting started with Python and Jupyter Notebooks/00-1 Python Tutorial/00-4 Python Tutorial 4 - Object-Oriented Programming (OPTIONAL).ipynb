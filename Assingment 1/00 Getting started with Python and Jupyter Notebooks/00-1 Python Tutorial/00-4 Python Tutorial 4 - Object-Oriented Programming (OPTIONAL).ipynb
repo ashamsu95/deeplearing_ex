{
 "cells": [
  {
   "cell_type": "markdown",
   "metadata": {},
   "source": [
    "# Object-oriented Programming  with Python"
   ]
  },
  {
   "cell_type": "markdown",
   "metadata": {},
   "source": [
    "## Overview of OOP Terminology\n",
    "\n",
    "* #### Class\n",
    "A user-defined prototype for an object that defines a set of attributes that characterize any object of the class. The attributes are data members (class variables and instance variables) and methods, accessed via dot notation.\n",
    "\n",
    "* ##### Class variable\n",
    "A variable that is shared by all instances of a class. Class variables are defined within a class but outside any of the class's methods. Class variables are not used as frequently as instance variables are.\n",
    "\n",
    "* ##### Data member\n",
    "A class variable or instance variable that holds data associated with a class and its objects.\n",
    "\n",
    "* ##### Function overloading\n",
    "The assignment of more than one behavior to a particular function. The operation performed varies by the types of objects or arguments involved.\n",
    "\n",
    "* ##### Instance variable\n",
    "A variable that is defined inside a method and belongs only to the current instance of a class.\n",
    "\n",
    "* ##### Inheritance\n",
    "The transfer of the characteristics of a class to other classes that are derived from it.\n",
    "\n",
    "* ##### Instance\n",
    "An individual object of a certain class. An object obj that belongs to a class Circle, for example, is an instance of the class Circle.\n",
    "\n",
    "* ##### Instantiation\n",
    "The creation of an instance of a class.\n",
    "\n",
    "* ##### Method\n",
    "A special kind of function that is defined in a class definition.\n",
    "\n",
    "* ##### Object\n",
    "A unique instance of a data structure that's defined by its class. An object comprises both data members (class variables and instance variables) and methods.\n",
    "\n",
    "* ##### Operator overloading\n",
    "The assignment of more than one function to a particular operator.\n"
   ]
  },
  {
   "cell_type": "markdown",
   "metadata": {},
   "source": [
    "## Creating Classes"
   ]
  },
  {
   "cell_type": "code",
   "execution_count": null,
   "metadata": {},
   "outputs": [],
   "source": [
    "class Employee:\n",
    "    'Common base class for all employees'  \n",
    "    empCount = 0 # Class Variable\n",
    "    \n",
    "    # Special method, which is called class constructor or initialization method \n",
    "    # that Python calls when you create a new instance of this class.\n",
    "    def __init__(self, name, salary):  \n",
    "        self.name = name\n",
    "        self.salary = salary\n",
    "        Employee.empCount += 1        \n",
    "       \n",
    "    # You declare other class methods like normal functions with the exception \n",
    "    # that the first argument to each method is self. \n",
    "    # Python adds the self argument to the list for you; \n",
    "    # you do not need to include it when you call the methods.\n",
    "    def displayCount(self):\n",
    "        print(\"Total Employee %d\" % Employee.empCount)\n",
    "    \n",
    "    def displayEmployee(self):\n",
    "        print(\"Name : \", self.name,  \", Salary: \", self.salary)"
   ]
  },
  {
   "cell_type": "markdown",
   "metadata": {},
   "source": [
    "## Creating Instance Objects"
   ]
  },
  {
   "cell_type": "code",
   "execution_count": null,
   "metadata": {},
   "outputs": [],
   "source": [
    "# first object of Employee class\n",
    "emp1 = Employee(\"Zara\", 2000)\n",
    "# second object of Employee class\n",
    "emp2 = Employee(\"Manni\", 5000)"
   ]
  },
  {
   "cell_type": "markdown",
   "metadata": {},
   "source": [
    "## Accessing Attributes"
   ]
  },
  {
   "cell_type": "code",
   "execution_count": null,
   "metadata": {},
   "outputs": [],
   "source": [
    "emp1.displayEmployee()\n",
    "emp2.displayEmployee()\n",
    "print(\"Total Employee %d\" % Employee.empCount)"
   ]
  },
  {
   "cell_type": "markdown",
   "metadata": {},
   "source": [
    "#### You can add, remove, or modify attributes of classes and objects at any time"
   ]
  },
  {
   "cell_type": "code",
   "execution_count": null,
   "metadata": {},
   "outputs": [],
   "source": [
    "emp1.age = 7  # Add an 'age' attribute.\n",
    "emp1.age = 8  # Modify 'age' attribute.\n",
    "del emp1.age  # Delete 'age' attribute."
   ]
  },
  {
   "cell_type": "markdown",
   "metadata": {},
   "source": [
    "#### Instead of using the normal statements to access attributes, you can use the following functions"
   ]
  },
  {
   "cell_type": "code",
   "execution_count": null,
   "metadata": {},
   "outputs": [],
   "source": [
    "hasattr(emp1, 'age')    # Returns true if 'age' attribute exists"
   ]
  },
  {
   "cell_type": "code",
   "execution_count": null,
   "metadata": {},
   "outputs": [],
   "source": [
    "setattr(emp1, 'age', 8) # Set attribute 'age' at 8"
   ]
  },
  {
   "cell_type": "code",
   "execution_count": null,
   "metadata": {},
   "outputs": [],
   "source": [
    "getattr(emp1, 'age')    # Returns value of 'age' attribute"
   ]
  },
  {
   "cell_type": "code",
   "execution_count": null,
   "metadata": {},
   "outputs": [],
   "source": [
    "delattr(emp1, 'age')    # Delete attribute 'age'"
   ]
  },
  {
   "cell_type": "markdown",
   "metadata": {},
   "source": [
    "#### Built-in Class Attributes"
   ]
  },
  {
   "cell_type": "code",
   "execution_count": null,
   "metadata": {},
   "outputs": [],
   "source": [
    "# Class documentation string or none, if undefined. \n",
    "print(\"Employee.__doc__:\", Employee.__doc__)"
   ]
  },
  {
   "cell_type": "code",
   "execution_count": null,
   "metadata": {},
   "outputs": [],
   "source": [
    "# Dictionary containing the class's namespace.\n",
    "print(\"Employee.__dict__:\", Employee.__dict__)"
   ]
  },
  {
   "cell_type": "markdown",
   "metadata": {},
   "source": [
    "## Destroying Objects (Garbage Collection)"
   ]
  },
  {
   "cell_type": "markdown",
   "metadata": {},
   "source": [
    "Python deletes unneeded objects (built-in types or class instances) automatically to free the memory space. The process by which Python periodically reclaims blocks of memory that no longer are in use is termed Garbage Collection.\n",
    "\n",
    "Python's garbage collector runs during program execution and is triggered when an object's reference count reaches zero. An object's reference count changes as the number of aliases that point to it changes.\n",
    "\n",
    "An object's reference count increases when it is assigned a new name or placed in a container (list, tuple, or dictionary). The object's reference count decreases when it's deleted with del, its reference is reassigned, or its reference goes out of scope. When an object's reference count reaches zero, Python collects it automatically.\n",
    "\n",
    "You normally will not notice when the garbage collector destroys an orphaned instance and reclaims its space. But a class can implement the special method __del__(), called a destructor, that is invoked when the instance is about to be destroyed. This method might be used to clean up any non memory resources used by an instance."
   ]
  },
  {
   "cell_type": "code",
   "execution_count": null,
   "metadata": {},
   "outputs": [],
   "source": [
    "\n",
    "a = 40      # Create object <40>\n",
    "b = a       # Increase ref. count  of <40> \n",
    "c = [b]     # Increase ref. count  of <40> \n",
    "\n",
    "del a       # Decrease ref. count  of <40>\n",
    "b = 100     # Decrease ref. count  of <40> \n",
    "c[0] = -1   # Decrease ref. count  of <40> "
   ]
  },
  {
   "cell_type": "markdown",
   "metadata": {},
   "source": [
    "#### Example"
   ]
  },
  {
   "cell_type": "code",
   "execution_count": null,
   "metadata": {},
   "outputs": [],
   "source": [
    "class Point:\n",
    "    def __init__( self, x=0, y=0):\n",
    "      self.x = x\n",
    "      self.y = y\n",
    "    def __del__(self):\n",
    "      class_name = self.__class__.__name__\n",
    "      print(class_name, \"destroyed\")\n",
    "\n",
    "pt1 = Point()\n",
    "pt2 = pt1\n",
    "pt3 = pt1\n",
    "print(id(pt1), id(pt2), id(pt3)) # prints the ids of the obejcts\n",
    "del pt1\n",
    "del pt2\n",
    "print(\"Now last dependet point is going to be deleted\")\n",
    "del pt3"
   ]
  },
  {
   "cell_type": "markdown",
   "metadata": {},
   "source": [
    "## Class Inheritance\n",
    "\n",
    "Instead of starting from scratch, you can create a class by deriving it from a existing class by listing the parent class in parentheses after the new class name.\n",
    "\n",
    "The child class inherits the attributes of its parent class, and you can use those attributes as if they were defined in the child class. A child class can also override data members and methods from the parent."
   ]
  },
  {
   "cell_type": "code",
   "execution_count": null,
   "metadata": {},
   "outputs": [],
   "source": [
    "class Parent:        # define parent class\n",
    "    parentAttr = 100\n",
    "    def __init__(self):\n",
    "        print(\"Calling parent constructor\")\n",
    "\n",
    "    def parentMethod(self):\n",
    "        print('Calling parent method')\n",
    "\n",
    "    def setAttr(self, attr):\n",
    "        Parent.parentAttr = attr\n",
    "\n",
    "    def getAttr(self):\n",
    "        print(\"Parent attribute :\", Parent.parentAttr)\n",
    "\n",
    "class Child(Parent): # define child class\n",
    "    def __init__(self):\n",
    "        print(\"Calling child constructor\")\n",
    "\n",
    "    def childMethod(self):\n",
    "        print('Calling child method')\n",
    "\n",
    "c = Child()          # instance of child\n",
    "c.childMethod()      # child calls its method\n",
    "c.parentMethod()     # calls parent's method\n",
    "c.setAttr(200)       # again call parent's method\n",
    "c.getAttr()          # again call parent's method"
   ]
  },
  {
   "cell_type": "code",
   "execution_count": null,
   "metadata": {},
   "outputs": [],
   "source": [
    "issubclass(Child,Parent)\n"
   ]
  },
  {
   "cell_type": "code",
   "execution_count": null,
   "metadata": {},
   "outputs": [],
   "source": [
    "isinstance(c,Parent)"
   ]
  },
  {
   "cell_type": "markdown",
   "metadata": {},
   "source": [
    "#### Multiple Inheritance"
   ]
  },
  {
   "cell_type": "code",
   "execution_count": null,
   "metadata": {},
   "outputs": [],
   "source": [
    "class A:        # define your class A\n",
    "    pass\n",
    "\n",
    "class B:         # define your class B\n",
    "    pass\n",
    "\n",
    "class C(A, B):   # subclass of A and B\n",
    "    pass"
   ]
  },
  {
   "cell_type": "markdown",
   "metadata": {},
   "source": [
    "## Overriding Methods\n",
    "\n",
    "You can always override your parent class methods. One reason for overriding parent's methods is because you may want special or different functionality in your subclass."
   ]
  },
  {
   "cell_type": "code",
   "execution_count": null,
   "metadata": {},
   "outputs": [],
   "source": [
    "#!/usr/bin/python\n",
    "\n",
    "class Parent:        # define parent class\n",
    "    def myMethod(self):\n",
    "        print('Calling parent method')\n",
    "\n",
    "class Child(Parent): # define child class\n",
    "    def myMethod(self):\n",
    "        print('Calling child method')\n",
    "\n",
    "c = Child()          # instance of child\n",
    "c.myMethod()         # child calls overridden method"
   ]
  },
  {
   "cell_type": "markdown",
   "metadata": {},
   "source": [
    "#### Base Overloading Methods\n",
    "\n",
    "*\t__init__ ( self [,args...] )\n",
    "Constructor (with any optional arguments)\n",
    "Sample Call : obj = className(args)\n",
    "*\t__del__( self )\n",
    "Destructor, deletes an object\n",
    "Sample Call : del obj\n",
    "*\t__repr__( self )\n",
    "Evaluatable string representation\n",
    "Sample Call : repr(obj)\n",
    "*\t__str__( self )\n",
    "Printable string representation\n",
    "Sample Call : str(obj)\n",
    "*\t__cmp__ ( self, x )\n",
    "Object comparison\n",
    "Sample Call : cmp(obj, x)"
   ]
  },
  {
   "cell_type": "markdown",
   "metadata": {},
   "source": [
    "## Overloading Operators\n",
    "\n",
    "Suppose you have created a vector class to represent two-dimensional vectors, what happens when you use the plus operator to add them? Most likely Python will not support this.\n",
    "\n",
    "You could, however, define the __add__ method in your class to perform vector addition and then the plus operator would behave as per expectation −"
   ]
  },
  {
   "cell_type": "code",
   "execution_count": null,
   "metadata": {},
   "outputs": [],
   "source": [
    "a=10\n",
    "b=20\n",
    "\n",
    "print(a+b)\n",
    "# Using built-in __add__ method\n",
    "print(a.__add__(b))"
   ]
  },
  {
   "cell_type": "code",
   "execution_count": null,
   "metadata": {},
   "outputs": [],
   "source": [
    "class Vector:\n",
    "    def __init__(self, a, b):\n",
    "        self.a = a\n",
    "        self.b = b\n",
    "\n",
    "    def __str__(self):\n",
    "        return 'Vector (%d, %d)' % (self.a, self.b)\n",
    "   \n",
    "    def __add__(self,other):\n",
    "        return Vector(self.a + other.a, self.b + other.b)\n",
    "\n",
    "v1 = Vector(2,10)\n",
    "v2 = Vector(5,-2)\n",
    "print(v1 + v2)"
   ]
  },
  {
   "cell_type": "markdown",
   "metadata": {},
   "source": [
    "## Data Hiding\n",
    "\n",
    "An object's attributes may or may not be visible outside the class definition. You need to name attributes with a double underscore prefix, and those attributes then are not be directly visible to outsiders."
   ]
  },
  {
   "cell_type": "code",
   "execution_count": null,
   "metadata": {},
   "outputs": [],
   "source": [
    "class JustCounter:\n",
    "    __secretCount = 0\n",
    "  \n",
    "    def count(self):\n",
    "       self.__secretCount += 1\n",
    "       print(self.__secretCount)\n",
    "\n",
    "counter = JustCounter()\n",
    "counter.count()\n",
    "counter.count()\n",
    "## Throws an error because it is not supposed to be public\n",
    "print(counter.__secretCount)"
   ]
  },
  {
   "cell_type": "markdown",
   "metadata": {},
   "source": [
    "## Source\n",
    "[1] https://www.tutorialspoint.com/python/python_classes_objects.htm"
   ]
  }
 ],
 "metadata": {
  "kernelspec": {
   "display_name": "Python 3",
   "language": "python",
   "name": "python3"
  },
  "language_info": {
   "codemirror_mode": {
    "name": "ipython",
    "version": 3
   },
   "file_extension": ".py",
   "mimetype": "text/x-python",
   "name": "python",
   "nbconvert_exporter": "python",
   "pygments_lexer": "ipython3",
   "version": "3.7.8"
  }
 },
 "nbformat": 4,
 "nbformat_minor": 4
}
