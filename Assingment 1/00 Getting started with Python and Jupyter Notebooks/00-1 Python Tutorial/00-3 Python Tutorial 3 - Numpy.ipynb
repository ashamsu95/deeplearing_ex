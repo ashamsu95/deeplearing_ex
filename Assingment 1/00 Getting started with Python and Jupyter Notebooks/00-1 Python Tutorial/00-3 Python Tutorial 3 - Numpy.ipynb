{
 "cells": [
  {
   "cell_type": "markdown",
   "metadata": {},
   "source": [
    "# Numpy\n",
    "\n",
    "Numpy is a Python library which faciliates scientific computing with Python. \n",
    "It supports computations with multidimensional array objects\n",
    "Browse through the tutorial to see how numpy arrays relate to other data structures in python.\n",
    "\n",
    "As numpy is a library, it has to be included using `import`"
   ]
  },
  {
   "cell_type": "code",
   "execution_count": null,
   "metadata": {},
   "outputs": [],
   "source": [
    "import numpy as np"
   ]
  },
  {
   "cell_type": "markdown",
   "metadata": {},
   "source": [
    "#### Python List"
   ]
  },
  {
   "cell_type": "code",
   "execution_count": null,
   "metadata": {},
   "outputs": [],
   "source": [
    "C = [20.1, 20.8, 21.9, 22.5, 22.7, 22.3, 21.8, 21.2, 20.9, 20.1]\n",
    "C"
   ]
  },
  {
   "cell_type": "markdown",
   "metadata": {},
   "source": [
    "#### One-Dimensional Numpy Array"
   ]
  },
  {
   "cell_type": "code",
   "execution_count": null,
   "metadata": {},
   "outputs": [],
   "source": [
    "C_np = np.array(C)\n",
    "C_np"
   ]
  },
  {
   "cell_type": "markdown",
   "metadata": {},
   "source": [
    "#### Converting into Fahrenheit"
   ]
  },
  {
   "cell_type": "code",
   "execution_count": null,
   "metadata": {},
   "outputs": [],
   "source": [
    "print(C_np * 9 / 5 + 32)"
   ]
  },
  {
   "cell_type": "markdown",
   "metadata": {},
   "source": [
    "The array was not modified:"
   ]
  },
  {
   "cell_type": "code",
   "execution_count": null,
   "metadata": {},
   "outputs": [],
   "source": [
    "print(C_np)"
   ]
  },
  {
   "cell_type": "markdown",
   "metadata": {},
   "source": [
    "#### Converting into Fahrenheit with Pyhton List (It is tedious)"
   ]
  },
  {
   "cell_type": "code",
   "execution_count": null,
   "metadata": {},
   "outputs": [],
   "source": [
    "FahrenheitFromPythonList = [ x*9/5 + 32 for x in C] \n",
    "print(FahrenheitFromPythonList)"
   ]
  },
  {
   "cell_type": "markdown",
   "metadata": {},
   "source": [
    "#### Checking the type"
   ]
  },
  {
   "cell_type": "code",
   "execution_count": null,
   "metadata": {},
   "outputs": [],
   "source": [
    "type(C)"
   ]
  },
  {
   "cell_type": "code",
   "execution_count": null,
   "metadata": {},
   "outputs": [],
   "source": [
    "type(C_np)"
   ]
  },
  {
   "cell_type": "markdown",
   "metadata": {},
   "source": [
    "#### Visualization"
   ]
  },
  {
   "cell_type": "code",
   "execution_count": null,
   "metadata": {},
   "outputs": [],
   "source": [
    "import matplotlib.pyplot as plt\n",
    "plt.plot(C_np)\n",
    "plt.show()"
   ]
  },
  {
   "cell_type": "markdown",
   "metadata": {},
   "source": [
    "# Generating Numpy Arrays"
   ]
  },
  {
   "cell_type": "markdown",
   "metadata": {},
   "source": [
    "## Arange\n",
    "#### Syntax\n",
    "`arange([start,] stop[, step], [, dtype=None])`\n",
    "* returns a ndarray\n",
    "* values are generated equally between half-open interval: [start,stop)\n",
    "* default start = 0\n",
    "* default step = 1\n",
    "* required: stop\n"
   ]
  },
  {
   "cell_type": "code",
   "execution_count": null,
   "metadata": {},
   "outputs": [],
   "source": [
    "import numpy as np\n",
    "\n",
    "a = np.arange(1, 7)\n",
    "print(\"Start: 0.5, Stop: 6.1\",a)\n",
    "\n",
    "# compare to range:\n",
    "x = range(1, 7)\n",
    "\n",
    "print(\"Iterator x:\",x)    # x is an interator\n",
    "\n",
    "print(\"Content of x:\",list(x))\n",
    "\n",
    "# further arange examples\n",
    "x = np.arange(7.3)\n",
    "print(\"Stop: 7.3\",x)\n",
    "x = np.arange(0.5, 6.1, 0.8)\n",
    "print(\"Start: 0.5, Stop: 6.1, Step: 0.8\",x)\n",
    "x = np.arange(0.5, 6.1, 0.8, int)\n",
    "print(\"Start: 0.5, Stop: 6.1, Step: 0.8, Type: Int:\",x)"
   ]
  },
  {
   "cell_type": "markdown",
   "metadata": {},
   "source": [
    "## Linspace\n",
    "#### Syntax\n",
    "`linspace(start, stop, num=50, endpoint=True, retstep=False)`"
   ]
  },
  {
   "cell_type": "code",
   "execution_count": null,
   "metadata": {},
   "outputs": [],
   "source": [
    "# 50 values (Defaut) between 1 and 10:\n",
    "print(np.linspace(1, 10))\n",
    "# 7 values between 1 and 10:\n",
    "print(np.linspace(1, 10, 7))\n",
    "# without endpoint:\n",
    "print(np.linspace(1, 10, 7, endpoint=False))"
   ]
  },
  {
   "cell_type": "code",
   "execution_count": null,
   "metadata": {},
   "outputs": [],
   "source": [
    "samples, spacing = np.linspace(1, 10, \n",
    "                               retstep=True)\n",
    "print(\"Spacing:\",spacing)\n",
    "samples, spacing = np.linspace(1, 10, 20, \n",
    "                               endpoint=True, retstep=True)\n",
    "print(\"Spacing:\",spacing)\n",
    "samples, spacing = np.linspace(1, 10, 20, \n",
    "                               endpoint=False, retstep=True)\n",
    "print(\"Spacing:\",spacing)\n",
    "print(\"Check whether spacing is correct:\",samples)"
   ]
  },
  {
   "cell_type": "markdown",
   "metadata": {},
   "source": [
    "## 0 - dimensional Array"
   ]
  },
  {
   "cell_type": "code",
   "execution_count": null,
   "metadata": {},
   "outputs": [],
   "source": [
    "import numpy as np\n",
    "x = np.array(42)\n",
    "print(\"x: \", x)\n",
    "print(\"The type of x: \", type(x))\n",
    "print(\"The dimension of x:\", np.ndim(x))"
   ]
  },
  {
   "cell_type": "markdown",
   "metadata": {},
   "source": [
    "## 1 - dimensional Array"
   ]
  },
  {
   "cell_type": "code",
   "execution_count": null,
   "metadata": {},
   "outputs": [],
   "source": [
    "F = np.array([1, 1, 2, 3, 5, 8, 13, 21])\n",
    "V = np.array([3.4, 6.9, 99.8, 12.8])\n",
    "print(\"F: \", F)\n",
    "print(\"V: \", V)\n",
    "print(\"Type of F: \", F.dtype)\n",
    "print(\"Type of V: \", V.dtype)\n",
    "print(\"Dimension of F: \", np.ndim(F))\n",
    "print(\"Dimension of V: \", np.ndim(V))"
   ]
  },
  {
   "cell_type": "markdown",
   "metadata": {},
   "source": [
    "## 2 or 3 - dimensional Array"
   ]
  },
  {
   "cell_type": "code",
   "execution_count": null,
   "metadata": {},
   "outputs": [],
   "source": [
    "A = np.array([ [3.4, 8.7, 9.9], \n",
    "               [1.1, -7.8, -0.7],\n",
    "               [4.1, 12.3, 4.8]])\n",
    "print(A)\n",
    "print(\"Dimension:\",A.ndim)\n",
    "print(\"Shape:\",A.shape)"
   ]
  },
  {
   "cell_type": "code",
   "execution_count": null,
   "metadata": {},
   "outputs": [],
   "source": [
    "B = np.array([ [[111, 112], [121, 122]],\n",
    "               [[211, 212], [221, 222]],\n",
    "               [[311, 312], [321, 322]] ])\n",
    "print(B)\n",
    "print(\"Dimension:\",B.ndim)\n",
    "print(\"Shape:\",B.shape)"
   ]
  },
  {
   "cell_type": "markdown",
   "metadata": {},
   "source": [
    "## Arrays with Ones or Zeros"
   ]
  },
  {
   "cell_type": "code",
   "execution_count": null,
   "metadata": {},
   "outputs": [],
   "source": [
    "C = np.ones((2,3))\n",
    "print(C)\n",
    "D = np.zeros((3,4),dtype=int)\n",
    "print(D)"
   ]
  },
  {
   "cell_type": "code",
   "execution_count": null,
   "metadata": {},
   "outputs": [],
   "source": [
    "x = np.array([2,5,18,14,4])\n",
    "E = np.ones_like(x)\n",
    "print(E)\n",
    "F = np.zeros_like(x)\n",
    "print(F)"
   ]
  },
  {
   "cell_type": "markdown",
   "metadata": {},
   "source": [
    "## eye - function\n",
    "#### Syntax\n",
    "eye(N, M=None, k=0, dtype=float)\n",
    "* N: rows\n",
    "* M: columns\n",
    "* k: position of diagonal"
   ]
  },
  {
   "cell_type": "code",
   "execution_count": null,
   "metadata": {},
   "outputs": [],
   "source": [
    "np.eye(5, 8, k=1, dtype=int) "
   ]
  },
  {
   "cell_type": "markdown",
   "metadata": {},
   "source": [
    "## Numerical Operations on Numpy Arrays"
   ]
  },
  {
   "cell_type": "code",
   "execution_count": null,
   "metadata": {},
   "outputs": [],
   "source": [
    "lst = [2, 3, 7.9, 3.3, 6.9, 0.11, 10.3, 12.9]\n",
    "v = np.array(lst)\n",
    "print(v + 2)"
   ]
  },
  {
   "cell_type": "code",
   "execution_count": null,
   "metadata": {},
   "outputs": [],
   "source": [
    "print(v * 2.2)"
   ]
  },
  {
   "cell_type": "code",
   "execution_count": null,
   "metadata": {},
   "outputs": [],
   "source": [
    "print(v - 1.38)"
   ]
  },
  {
   "cell_type": "code",
   "execution_count": null,
   "metadata": {},
   "outputs": [],
   "source": [
    "print(v ** 2)"
   ]
  },
  {
   "cell_type": "code",
   "execution_count": null,
   "metadata": {},
   "outputs": [],
   "source": [
    "import numpy as np\n",
    "\n",
    "A = np.array([ [11, 12, 13], [21, 22, 23], [31, 32, 33] ])\n",
    "B = np.ones((3,3))\n",
    "\n",
    "print(\"Addition of two arrays: \")\n",
    "print(A + B)\n",
    "\n",
    "print(\"\\n Multiplication of two arrays: \")\n",
    "print(A * (B + 1))"
   ]
  },
  {
   "cell_type": "code",
   "execution_count": null,
   "metadata": {},
   "outputs": [],
   "source": [
    "print(np.dot(A, B))"
   ]
  },
  {
   "cell_type": "markdown",
   "metadata": {},
   "source": [
    "## Comparing Arrays"
   ]
  },
  {
   "cell_type": "code",
   "execution_count": null,
   "metadata": {},
   "outputs": [],
   "source": [
    "A = np.array([ [11, 12, 13], [21, 22, 23], [31, 32, 33] ])\n",
    "B = np.array([ [11, 102, 13], [201, 22, 203], [31, 32, 303] ])\n",
    "\n",
    "A == B"
   ]
  },
  {
   "cell_type": "markdown",
   "metadata": {},
   "source": [
    "## Logical Operators"
   ]
  },
  {
   "cell_type": "code",
   "execution_count": null,
   "metadata": {},
   "outputs": [],
   "source": [
    "a = np.array([ [True, True], [False, False]])\n",
    "b = np.array([ [True, False], [True, False]])\n",
    "\n",
    "print(np.logical_or(a, b))\n",
    "print(np.logical_and(a, b))"
   ]
  },
  {
   "cell_type": "markdown",
   "metadata": {},
   "source": [
    "## Broadcasting"
   ]
  },
  {
   "cell_type": "code",
   "execution_count": null,
   "metadata": {},
   "outputs": [],
   "source": [
    "A = np.array([ [11, 12, 13], [21, 22, 23], [31, 32, 33] ])\n",
    "B = np.array([1, 2, 3])\n",
    "\n",
    "print(A * B)\n",
    "\n",
    "print(A + B)"
   ]
  },
  {
   "cell_type": "code",
   "execution_count": null,
   "metadata": {},
   "outputs": [],
   "source": [
    "A = np.array([10, 20, 30])\n",
    "B = np.array([1, 2, 3])\n",
    "A[:, np.newaxis] * B"
   ]
  },
  {
   "cell_type": "markdown",
   "metadata": {},
   "source": [
    "## Flatten"
   ]
  },
  {
   "cell_type": "code",
   "execution_count": null,
   "metadata": {},
   "outputs": [],
   "source": [
    "import numpy as np\n",
    "\n",
    "A = np.array([[[ 0,  1],\n",
    "               [ 2,  3],\n",
    "               [ 4,  5],\n",
    "               [ 6,  7]],\n",
    "              [[ 8,  9],\n",
    "               [10, 11],\n",
    "               [12, 13],\n",
    "               [14, 15]],\n",
    "              [[16, 17],\n",
    "               [18, 19],\n",
    "               [20, 21],\n",
    "               [22, 23]]])\n",
    "\n",
    "Flattened_X = A.flatten()\n",
    "print(A)\n",
    "print(Flattened_X)"
   ]
  },
  {
   "cell_type": "markdown",
   "metadata": {},
   "source": [
    "## Reshape"
   ]
  },
  {
   "cell_type": "code",
   "execution_count": null,
   "metadata": {},
   "outputs": [],
   "source": [
    "X = np.array(range(24))\n",
    "print(\"X:\",X)\n",
    "Y = X.reshape((3,4,2))\n",
    "print(\"Y:\",Y)"
   ]
  },
  {
   "cell_type": "markdown",
   "metadata": {},
   "source": [
    "## Concatenate"
   ]
  },
  {
   "cell_type": "code",
   "execution_count": null,
   "metadata": {},
   "outputs": [],
   "source": [
    "x = np.array([11,22])\n",
    "y = np.array([18,7,6])\n",
    "z = np.array([1,3,5])\n",
    "c = np.concatenate((x,y,z))\n",
    "print(c)"
   ]
  },
  {
   "cell_type": "markdown",
   "metadata": {},
   "source": [
    "## Adding Dimensions"
   ]
  },
  {
   "cell_type": "code",
   "execution_count": null,
   "metadata": {},
   "outputs": [],
   "source": [
    "x = np.array([2,5,18,14,4])\n",
    "y = x[:, np.newaxis]\n",
    "print(y)"
   ]
  }
 ],
 "metadata": {
  "kernelspec": {
   "display_name": "Python 3",
   "language": "python",
   "name": "python3"
  },
  "language_info": {
   "codemirror_mode": {
    "name": "ipython",
    "version": 3
   },
   "file_extension": ".py",
   "mimetype": "text/x-python",
   "name": "python",
   "nbconvert_exporter": "python",
   "pygments_lexer": "ipython3",
   "version": "3.7.8"
  }
 },
 "nbformat": 4,
 "nbformat_minor": 4
}
